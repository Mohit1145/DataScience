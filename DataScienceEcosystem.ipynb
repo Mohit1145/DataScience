{
 "cells": [
  {
   "cell_type": "markdown",
   "id": "99736f6b-59c0-4df9-b9c8-ff72c7f8f3f5",
   "metadata": {},
   "source": [
    "Data Science Tools and Ecosystem"
   ]
  },
  {
   "cell_type": "markdown",
   "id": "4cf1c11e-f457-46a5-be7e-43329c7e06eb",
   "metadata": {},
   "source": [
    "In this notebook, Data Science Tools and Ecosystem are summarized.\n"
   ]
  },
  {
   "cell_type": "markdown",
   "id": "f3305011-1db8-49be-a07d-3b4887930260",
   "metadata": {},
   "source": [
    "Some of the popular languages that Data Scientists use are: PYTHON , R, SQL"
   ]
  },
  {
   "cell_type": "markdown",
   "id": "46c1c24c-939a-4309-afce-5b6b881855f7",
   "metadata": {},
   "source": [
    "Some of the commonly used libraries used by Data Scientists include: NumPy , Pandas, Seaborn"
   ]
  },
  {
   "cell_type": "markdown",
   "id": "7b8f1bc3-8eac-49d7-a0af-591095faf576",
   "metadata": {},
   "source": [
    "Data Science Tools:\n",
    "Category\tTool\tDescription\n",
    "Programming Languages\tPython\tA versatile programming language, widely used for data analysis, machine learning, and automation.\n",
    "R\tA language and environment for statistical computing and graphics, commonly used for statistical analysis.\n",
    "SQL\tA language used to query and manipulate relational databases, essential for managing structured data.\n",
    "Julia\tA high-performance language for technical computing, often used in scientific and data-heavy environments.\n",
    "Data Analysis Libraries\tPandas\tA Python library for data manipulation and analysis, providing powerful data structures like DataFrames.\n",
    "NumPy\tA Python library for numerical computations, particularly with arrays and matrices.\n",
    "Dask\tA parallel computing library that scales Python code for larger datasets across multiple cores or clusters.\n",
    "Machine Learning Libraries\tScikit-learn\tA Python library for machine learning that provides easy-to-use tools for data mining and data analysis.\n",
    "TensorFlow\tA deep learning framework developed by Google for building and training neural networks.\n",
    "Keras\tA high-level neural networks API built on top of TensorFlow, used for quick prototyping.\n",
    "PyTorch\tAn open-source deep learning framework widely used in both academia and industry for machine learning.\n",
    "XGBoost\tA machine learning library optimized for speed and performance, especially useful for tabular data.\n",
    "Data Visualization\tMatplotlib\tA Python library for creating static, animated, and interactive visualizations.\n",
    "Seaborn\tBuilt on top of Matplotlib, it provides a high-level interface for attractive statistical graphics.\n",
    "Plotly\tAn interactive graphing library that creates dynamic, web-based visualizations.\n",
    "Tableau\tA business intelligence tool used for creating interactive and shareable dashboards from data.\n",
    "Power BI\tA business analytics tool by Microsoft that helps visualize and share insights from data.\n",
    "Big Data Tools\tApache Hadoop\tA framework for the distributed storage and processing of large datasets across clusters of computers.\n",
    "Apache Spark\tA unified analytics engine for big data processing, with built-in modules for streaming, machine learning, etc.\n",
    "Cloud Computing\tAWS\tAmazon Web Services, a cloud platform that provides computing resources for data storage and analysis.\n",
    "Google Cloud Platform (GCP)\tA cloud suite for computing, machine learning, data analytics, and AI tools.\n",
    "Microsoft Azure\tA cloud computing platform offering services like data storage, analytics, and machine learning.\n",
    "Data Storage\tMySQL\tA relational database management system used to store structured data.\n",
    "PostgreSQL\tAn open-source relational database that is highly extensible and supports advanced analytics.\n",
    "MongoDB\tA NoSQL database for storing unstructured data, suitable for high-volume, flexible data models.\n",
    "Amazon S3\tA cloud storage service that offers scalable object storage for large amounts of data.\n",
    "Version Control\tGit\tA version control system to track changes in code, allowing collaborative work in data science projects.\n",
    "GitHub\tA platform for version control and collaboration, enabling sharing of code and collaborative work.\n",
    "Notebook Environments\tJupyter Notebooks\tA web-based interactive environment that allows for live coding, visualizations, and documentation.\n",
    "Google Colab\tA cloud-based Python notebook that provides free access to GPUs for machine learning and data analysis.\n",
    "Data Collection\tBeautifulSoup\tA Python library for web scraping, used to extract data from HTML and XML documents.\n",
    "Scrapy\tA web scraping framework that allows for crawling and extracting data from websites.\n",
    "APIs\tUsed for retrieving data from external platforms (e.g., Twitter, Google, etc.) via their application programming interfaces.\n",
    "Deployment & Automation\tDocker\tA platform that allows applications to run in containers, ensuring consistent environments across systems.\n",
    "Kubernetes\tA container orchestration tool that automates the deployment, scaling, and management of containerized applications.\n",
    "MLflow\tA platform for managing the machine learning lifecycle, including experimentation, deployment, and monitoring.\n",
    "Business Analytics Tools\tExcel\tA spreadsheet tool used for data analysis, visualization, and basic modeling.\n",
    "Google Sheets\tA cloud-based spreadsheet tool used for collaboration and basic data analysis."
   ]
  },
  {
   "cell_type": "markdown",
   "id": "1727dd3c-0b12-4f6f-a4e3-891696b8c661",
   "metadata": {},
   "source": [
    "Below are a few examples of evaluating arithmetic expressions in Python:\n",
    "# Addition\n",
    "addition = 5 + 3\n",
    "print(\"Addition:\", addition)\n",
    "\n",
    "# Subtraction\n",
    "subtraction = 5 - 3\n",
    "print(\"Subtraction:\", subtraction)\n",
    "\n",
    "# Multiplication\n",
    "multiplication = 5 * 3\n",
    "print(\"Multiplication:\", multiplication)\n",
    "\n",
    "# Division\n",
    "division = 5 / 3\n",
    "print(\"Division:\", division)"
   ]
  },
  {
   "cell_type": "markdown",
   "id": "3bb30816-c5e7-41e8-a60c-b9319d2f856a",
   "metadata": {},
   "source": [
    "This a simple arithmetic expression to mutiply then add integers:"
   ]
  },
  {
   "cell_type": "code",
   "execution_count": 2,
   "id": "c4c93af5-5558-4d23-84ac-f5780620bc5b",
   "metadata": {},
   "outputs": [
    {
     "data": {
      "text/plain": [
       "17"
      ]
     },
     "execution_count": 2,
     "metadata": {},
     "output_type": "execute_result"
    }
   ],
   "source": [
    "(3*4)+5\n"
   ]
  },
  {
   "cell_type": "code",
   "execution_count": 3,
   "id": "87b78e17-985e-47a2-be0b-5a8a2e98e8ce",
   "metadata": {},
   "outputs": [
    {
     "name": "stdout",
     "output_type": "stream",
     "text": [
      "3.3333333333333335\n"
     ]
    }
   ],
   "source": [
    "# This will convert 200 minutes to hours by dividing by 60\n",
    "minutes = 200\n",
    "hours = minutes / 60\n",
    "print(hours)"
   ]
  },
  {
   "cell_type": "markdown",
   "id": "6b0070fa-f3e1-4823-881a-fa311885b0f8",
   "metadata": {},
   "source": [
    "\n",
    "Here are the objectives for this exercise:\n",
    "\n",
    "- Understand the use of Python for basic operations\n",
    "- Learn how to perform unit conversions\n",
    "- Familiarize with using expressions and calculations in Python\n",
    "- Practice printing output in Python\n",
    "- Learn how to handle variables and assignments\n",
    "- Convert time units from minutes to hours\n",
    "- Explore basic syntax for comments and documentation\n",
    "- Understand mathematical operations in Python\n",
    "- Gain an understanding of variable types in Python\n",
    "- Develop the ability to evaluate expressions in Python"
   ]
  },
  {
   "cell_type": "markdown",
   "id": "01cfa55c-3bd0-442f-b841-98a67d96f102",
   "metadata": {},
   "source": [
    "Lakshmi Holla"
   ]
  }
 ],
 "metadata": {
  "kernelspec": {
   "display_name": "Python 3 (ipykernel)",
   "language": "python",
   "name": "python3"
  },
  "language_info": {
   "codemirror_mode": {
    "name": "ipython",
    "version": 3
   },
   "file_extension": ".py",
   "mimetype": "text/x-python",
   "name": "python",
   "nbconvert_exporter": "python",
   "pygments_lexer": "ipython3",
   "version": "3.12.4"
  }
 },
 "nbformat": 4,
 "nbformat_minor": 5
}
